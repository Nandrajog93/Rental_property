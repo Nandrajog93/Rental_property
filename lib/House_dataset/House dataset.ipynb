{
 "cells": [
  {
   "cell_type": "code",
   "execution_count": 1,
   "id": "4b29a1bd",
   "metadata": {},
   "outputs": [],
   "source": [
    "import pandas as pd\n",
    "import os"
   ]
  },
  {
   "cell_type": "code",
   "execution_count": 2,
   "id": "156da622",
   "metadata": {},
   "outputs": [],
   "source": [
    "data =pd.read_csv('socal3.csv')"
   ]
  },
  {
   "cell_type": "code",
   "execution_count": 3,
   "id": "06484652",
   "metadata": {},
   "outputs": [],
   "source": [
    "data.columns = ['A','B','C','D','E','F','G','H','I']"
   ]
  },
  {
   "cell_type": "code",
   "execution_count": 6,
   "id": "5f268c13",
   "metadata": {},
   "outputs": [],
   "source": [
    "data.B =data.B.apply(lambda x: x.replace('/home/utente/','/Users/nandrajog/Downloads/') )\n"
   ]
  },
  {
   "cell_type": "code",
   "execution_count": 7,
   "id": "becc478d",
   "metadata": {},
   "outputs": [],
   "source": [
    "data2 = pd.read_csv('houses_data.csv')"
   ]
  },
  {
   "cell_type": "code",
   "execution_count": 8,
   "id": "90c9fb75",
   "metadata": {},
   "outputs": [],
   "source": [
    "data2['Location'] = data2.apply(lambda row: 'Naples, Italy' if row['Latitude'] < 41 else 'Rome, Italy', axis=1)\n"
   ]
  },
  {
   "cell_type": "code",
   "execution_count": 9,
   "id": "447d464f",
   "metadata": {},
   "outputs": [
    {
     "data": {
      "text/html": [
       "<div>\n",
       "<style scoped>\n",
       "    .dataframe tbody tr th:only-of-type {\n",
       "        vertical-align: middle;\n",
       "    }\n",
       "\n",
       "    .dataframe tbody tr th {\n",
       "        vertical-align: top;\n",
       "    }\n",
       "\n",
       "    .dataframe thead th {\n",
       "        text-align: right;\n",
       "    }\n",
       "</style>\n",
       "<table border=\"1\" class=\"dataframe\">\n",
       "  <thead>\n",
       "    <tr style=\"text-align: right;\">\n",
       "      <th></th>\n",
       "      <th>Description</th>\n",
       "      <th>Name</th>\n",
       "      <th>Latitude</th>\n",
       "      <th>Longitude</th>\n",
       "      <th>Price</th>\n",
       "      <th>UnivalentValue</th>\n",
       "      <th>Location</th>\n",
       "    </tr>\n",
       "  </thead>\n",
       "  <tbody>\n",
       "    <tr>\n",
       "      <th>0</th>\n",
       "      <td>A lakeside cottage with a fishing dock.</td>\n",
       "      <td>Residenza Verde</td>\n",
       "      <td>40.811259</td>\n",
       "      <td>14.269049</td>\n",
       "      <td>687517</td>\n",
       "      <td>15</td>\n",
       "      <td>Naples, Italy</td>\n",
       "    </tr>\n",
       "    <tr>\n",
       "      <th>1</th>\n",
       "      <td>An elegant residence with high ceilings.</td>\n",
       "      <td>Villa delle Rose</td>\n",
       "      <td>40.836194</td>\n",
       "      <td>14.276550</td>\n",
       "      <td>195189</td>\n",
       "      <td>5</td>\n",
       "      <td>Naples, Italy</td>\n",
       "    </tr>\n",
       "    <tr>\n",
       "      <th>2</th>\n",
       "      <td>A rural estate with horse stables.</td>\n",
       "      <td>Casa delle Rose</td>\n",
       "      <td>40.898712</td>\n",
       "      <td>14.221084</td>\n",
       "      <td>868903</td>\n",
       "      <td>21</td>\n",
       "      <td>Naples, Italy</td>\n",
       "    </tr>\n",
       "    <tr>\n",
       "      <th>3</th>\n",
       "      <td>A trendy condo with floor-to-ceiling windows.</td>\n",
       "      <td>Dimora del Sole</td>\n",
       "      <td>40.821681</td>\n",
       "      <td>14.249236</td>\n",
       "      <td>105810</td>\n",
       "      <td>13</td>\n",
       "      <td>Naples, Italy</td>\n",
       "    </tr>\n",
       "    <tr>\n",
       "      <th>4</th>\n",
       "      <td>A suburban home with a finished basement.</td>\n",
       "      <td>Cottage del Sole</td>\n",
       "      <td>40.890574</td>\n",
       "      <td>14.223928</td>\n",
       "      <td>809000</td>\n",
       "      <td>11</td>\n",
       "      <td>Naples, Italy</td>\n",
       "    </tr>\n",
       "    <tr>\n",
       "      <th>...</th>\n",
       "      <td>...</td>\n",
       "      <td>...</td>\n",
       "      <td>...</td>\n",
       "      <td>...</td>\n",
       "      <td>...</td>\n",
       "      <td>...</td>\n",
       "      <td>...</td>\n",
       "    </tr>\n",
       "    <tr>\n",
       "      <th>195</th>\n",
       "      <td>A cozy cottage with a fireplace.</td>\n",
       "      <td>Villa del Mare</td>\n",
       "      <td>41.901782</td>\n",
       "      <td>12.461182</td>\n",
       "      <td>345965</td>\n",
       "      <td>12</td>\n",
       "      <td>Rome, Italy</td>\n",
       "    </tr>\n",
       "    <tr>\n",
       "      <th>196</th>\n",
       "      <td>A countryside house with a guest house.</td>\n",
       "      <td>Tenuta dei Fiori</td>\n",
       "      <td>41.924139</td>\n",
       "      <td>12.455789</td>\n",
       "      <td>831258</td>\n",
       "      <td>23</td>\n",
       "      <td>Rome, Italy</td>\n",
       "    </tr>\n",
       "    <tr>\n",
       "      <th>197</th>\n",
       "      <td>A cozy cottage in a quiet neighborhood.</td>\n",
       "      <td>Casa Verde</td>\n",
       "      <td>41.924162</td>\n",
       "      <td>12.466743</td>\n",
       "      <td>285824</td>\n",
       "      <td>11</td>\n",
       "      <td>Rome, Italy</td>\n",
       "    </tr>\n",
       "    <tr>\n",
       "      <th>198</th>\n",
       "      <td>A chic condo with a private balcony.</td>\n",
       "      <td>Dimora del Mare</td>\n",
       "      <td>41.886480</td>\n",
       "      <td>12.467523</td>\n",
       "      <td>981790</td>\n",
       "      <td>12</td>\n",
       "      <td>Rome, Italy</td>\n",
       "    </tr>\n",
       "    <tr>\n",
       "      <th>199</th>\n",
       "      <td>A charming villa with stunning sea views.</td>\n",
       "      <td>Cottage delle Rose</td>\n",
       "      <td>41.928270</td>\n",
       "      <td>12.509676</td>\n",
       "      <td>204578</td>\n",
       "      <td>18</td>\n",
       "      <td>Rome, Italy</td>\n",
       "    </tr>\n",
       "  </tbody>\n",
       "</table>\n",
       "<p>200 rows × 7 columns</p>\n",
       "</div>"
      ],
      "text/plain": [
       "                                       Description                Name  \\\n",
       "0          A lakeside cottage with a fishing dock.     Residenza Verde   \n",
       "1         An elegant residence with high ceilings.    Villa delle Rose   \n",
       "2               A rural estate with horse stables.     Casa delle Rose   \n",
       "3    A trendy condo with floor-to-ceiling windows.     Dimora del Sole   \n",
       "4        A suburban home with a finished basement.    Cottage del Sole   \n",
       "..                                             ...                 ...   \n",
       "195               A cozy cottage with a fireplace.      Villa del Mare   \n",
       "196        A countryside house with a guest house.    Tenuta dei Fiori   \n",
       "197        A cozy cottage in a quiet neighborhood.          Casa Verde   \n",
       "198           A chic condo with a private balcony.     Dimora del Mare   \n",
       "199      A charming villa with stunning sea views.  Cottage delle Rose   \n",
       "\n",
       "      Latitude  Longitude   Price  UnivalentValue       Location  \n",
       "0    40.811259  14.269049  687517              15  Naples, Italy  \n",
       "1    40.836194  14.276550  195189               5  Naples, Italy  \n",
       "2    40.898712  14.221084  868903              21  Naples, Italy  \n",
       "3    40.821681  14.249236  105810              13  Naples, Italy  \n",
       "4    40.890574  14.223928  809000              11  Naples, Italy  \n",
       "..         ...        ...     ...             ...            ...  \n",
       "195  41.901782  12.461182  345965              12    Rome, Italy  \n",
       "196  41.924139  12.455789  831258              23    Rome, Italy  \n",
       "197  41.924162  12.466743  285824              11    Rome, Italy  \n",
       "198  41.886480  12.467523  981790              12    Rome, Italy  \n",
       "199  41.928270  12.509676  204578              18    Rome, Italy  \n",
       "\n",
       "[200 rows x 7 columns]"
      ]
     },
     "execution_count": 9,
     "metadata": {},
     "output_type": "execute_result"
    }
   ],
   "source": [
    "data2"
   ]
  },
  {
   "cell_type": "code",
   "execution_count": 10,
   "id": "313c1e52",
   "metadata": {},
   "outputs": [],
   "source": [
    "# Re-defining the Napoli addresses list since it got lost during the error\n",
    "#! pip3 install geopy\n",
    "from geopy.geocoders import Nominatim\n",
    "\n",
    "# Initialize Nominatim API\n",
    "geolocator = Nominatim(user_agent=\"MyApp\")\n",
    "from tqdm import tqdm"
   ]
  },
  {
   "cell_type": "code",
   "execution_count": 16,
   "id": "2fb30fac",
   "metadata": {},
   "outputs": [
    {
     "name": "stderr",
     "output_type": "stream",
     "text": [
      "100%|██████████| 100/100 [01:02<00:00,  1.59it/s]\n"
     ]
    }
   ],
   "source": [
    "addresses_napoli = [\n",
    "    \"Via Roma, 1, Napoli\", \"Via Toledo, 5, Napoli\", \"Piazza del Plebiscito, 10, Napoli\", \"Via Chiaia, 15, Napoli\",\n",
    "    \"Corso Umberto I, 20, Napoli\", \"Via dei Tribunali, 25, Napoli\", \"Via Partenope, 30, Napoli\",\n",
    "    \"Via San Gregorio Armeno, 35, Napoli\", \"Via Spaccanapoli, 40, Napoli\", \"Via Duomo, 45, Napoli\",\n",
    "    \"Via Foria, 50, Napoli\", \"Via Santa Lucia, 55, Napoli\", \"Via Caracciolo, 60, Napoli\", \"Via Marina, 65, Napoli\",\n",
    "    \"Via Mergellina, 70, Napoli\", \"Via Santa Brigida, 75, Napoli\", \"Via Posillipo, 80, Napoli\", \"Via Dante, 85, Napoli\",\n",
    "    \"Via San Carlo, 90, Napoli\", \"Via Medina, 95, Napoli\", \"Via Salvator Rosa, 100, Napoli\", \"Via Tribunali, 105, Napoli\",\n",
    "    \"Via Depretis, 110, Napoli\", \"Via Mezzocannone, 115, Napoli\", \"Via Corso Vittorio Emanuele, 120, Napoli\",\n",
    "    \"Via Pignasecca, 125, Napoli\", \"Via Orazio, 130, Napoli\", \"Via Aniello Falcone, 135, Napoli\", \"Via dei Mille, 140, Napoli\",\n",
    "    \"Via Tasso, 145, Napoli\", \"Via Scarlatti, 150, Napoli\", \"Via Verdi, 155, Napoli\", \"Via Galiani, 160, Napoli\",\n",
    "    \"Via San Martino, 165, Napoli\", \"Via Palizzi, 170, Napoli\", \"Via Manzoni, 175, Napoli\", \"Via Poerio, 180, Napoli\",\n",
    "    \"Via Parco Margherita, 185, Napoli\", \"Via Sanfelice, 190, Napoli\", \"Via Monte di Dio, 195, Napoli\",\n",
    "    \"Via Riviera di Chiaia, 200, Napoli\", \"Via Santa Teresa, 205, Napoli\", \"Via Carducci, 210, Napoli\",\n",
    "    \"Via Nazario Sauro, 215, Napoli\", \"Via Crispi, 220, Napoli\", \"Via Martucci, 225, Napoli\", \"Via Recco, 230, Napoli\",\n",
    "    \"Via Generale Orsini, 235, Napoli\", \"Via G. Jannelli, 240, Napoli\", \"Via Leopardi, 245, Napoli\",\n",
    "    \"Via A. Manzoni, 250, Napoli\", \"Via Belvedere, 255, Napoli\", \"Via Chiatamone, 260, Napoli\", \"Via Riviera, 265, Napoli\",\n",
    "    \"Via P. Giannone, 270, Napoli\", \"Via Imbriani, 275, Napoli\", \"Via Nuova Marina, 280, Napoli\",\n",
    "    \"Via M. Santacroce, 285, Napoli\", \"Via M. D'Azeglio, 290, Napoli\", \"Via D. Morelli, 295, Napoli\",\n",
    "    \"Via G. Amendola, 300, Napoli\", \"Via Salvator Tommasi, 305, Napoli\", \"Via Santa Chiara, 310, Napoli\",\n",
    "    \"Via Filangieri, 315, Napoli\", \"Via F. Petrarca, 320, Napoli\", \"Via Nuova Pizzofalcone, 325, Napoli\",\n",
    "    \"Via T. Tasso, 330, Napoli\", \"Via T. D'Aquino, 335, Napoli\", \"Via Chiaia, 340, Napoli\", \"Via Santa Maria, 345, Napoli\",\n",
    "    \"Via Nuova S. Maria, 350, Napoli\", \"Via S. Lucia, 355, Napoli\", \"Via Foria, 360, Napoli\", \"Via Toledo, 365, Napoli\",\n",
    "    \"Via Roma, 370, Napoli\", \"Via Corso Umberto I, 375, Napoli\", \"Via Scarlatti, 380, Napoli\", \"Via Chiaia, 385, Napoli\",\n",
    "    \"Via Poerio, 390, Napoli\", \"Via Crispi, 395, Napoli\", \"Via Partenope, 400, Napoli\", \"Via Duomo, 405, Napoli\",\n",
    "    \"Via Verdi, 410, Napoli\", \"Via Manzoni, 415, Napoli\", \"Via Salvator Rosa, 420, Napoli\", \"Via Palizzi, 425, Napoli\",\n",
    "    \"Via Monte di Dio, 430, Napoli\", \"Via Posillipo, 435, Napoli\", \"Via Tasso, 440, Napoli\", \"Via Pignasecca, 445, Napoli\",\n",
    "    \"Via Poerio, 450, Napoli\", \"Via Santa Lucia, 455, Napoli\", \"Via Marina, 460, Napoli\", \"Via Foria, 465, Napoli\",\n",
    "    \"Via Aniello Falcone, 470, Napoli\", \"Via Caracciolo, 475, Napoli\", \"Via Martucci, 480, Napoli\",\n",
    "    \"Via Generale Orsini, 485, Napoli\", \"Via Leopardi, 490, Napoli\", \"Via Galiani, 495, Napoli\"\n",
    "]\n",
    "\n",
    "from geopy.geocoders import Nominatim\n",
    "from geopy.exc import GeocoderTimedOut\n",
    "\n",
    "# Get latitude and longitude for Napoli addresses\n",
    "napoli_coords = [geolocator.geocode(address,timeout=None) for address in tqdm(addresses_napoli)]\n",
    "\n"
   ]
  },
  {
   "cell_type": "code",
   "execution_count": 17,
   "id": "d9f958e9",
   "metadata": {},
   "outputs": [],
   "source": [
    "addresses_rome = [\n",
    "    \"Via del Corso, 1, Rome\", \"Via dei Condotti, 5, Rome\", \"Piazza Navona, 10, Rome\", \"Via Veneto, 15, Rome\",\n",
    "    \"Via del Tritone, 20, Rome\", \"Via della Conciliazione, 25, Rome\", \"Via Nazionale, 30, Rome\",\n",
    "    \"Via del Babuino, 35, Rome\", \"Via della Scrofa, 40, Rome\", \"Via Cavour, 45, Rome\", \"Via Sistina, 50, Rome\",\n",
    "    \"Via Giulia, 55, Rome\", \"Via del Governo Vecchio, 60, Rome\", \"Via Margutta, 65, Rome\", \"Via dei Fori Imperiali, 70, Rome\",\n",
    "    \"Via della Panetteria, 75, Rome\", \"Via delle Quattro Fontane, 80, Rome\", \"Via della Croce, 85, Rome\",\n",
    "    \"Via del Corallo, 90, Rome\", \"Via del Gesù, 95, Rome\", \"Via dei Giubbonari, 100, Rome\", \"Via del Pellegrino, 105, Rome\",\n",
    "    \"Via del Boschetto, 110, Rome\", \"Via di Ripetta, 115, Rome\", \"Via di San Teodoro, 120, Rome\",\n",
    "    \"Via del Babbuino, 125, Rome\", \"Via del Gambero, 130, Rome\", \"Via di Monte Brianzo, 135, Rome\",\n",
    "    \"Via della Lupa, 140, Rome\", \"Via della Lungara, 145, Rome\", \"Via di Sant'Anna, 150, Rome\", \"Via di Tor Millina, 155, Rome\",\n",
    "    \"Via di Santa Chiara, 160, Rome\", \"Via del Plebiscito, 165, Rome\", \"Via del Seminario, 170, Rome\",\n",
    "    \"Via del Teatro Valle, 175, Rome\", \"Via delle Botteghe Oscure, 180, Rome\", \"Via di Campo Marzio, 185, Rome\",\n",
    "    \"Via di San Vincenzo, 190, Rome\", \"Via di Torre Argentina, 195, Rome\", \"Via di Tor Sanguigna, 200, Rome\",\n",
    "    \"Via di Santa Maria in Via, 205, Rome\", \"Via di Santa Caterina, 210, Rome\", \"Via della Vite, 215, Rome\",\n",
    "    \"Via del Corallo, 220, Rome\", \"Via dei Funari, 225, Rome\", \"Via di Torre Argentina, 230, Rome\",\n",
    "    \"Via di Pietra, 235, Rome\", \"Via di Torre Argentina, 240, Rome\", \"Via di Santa Maria, 245, Rome\",\n",
    "    \"Via della Stelletta, 250, Rome\", \"Via della Pace, 255, Rome\", \"Via di Parione, 260, Rome\", \"Via di Montecitorio, 265, Rome\",\n",
    "    \"Via della Pigna, 270, Rome\", \"Via di Torre Argentina, 275, Rome\", \"Via di Pietra, 280, Rome\",\n",
    "    \"Via di Tor Sanguigna, 285, Rome\", \"Via di Santa Maria, 290, Rome\", \"Via della Stelletta, 295, Rome\",\n",
    "    \"Via della Pace, 300, Rome\", \"Via di Parione, 305, Rome\", \"Via di Montecitorio, 310, Rome\", \"Via della Pigna, 315, Rome\",\n",
    "    \"Via della Stelletta, 320, Rome\", \"Via della Pace, 325, Rome\", \"Via di Parione, 330, Rome\", \"Via di Montecitorio, 335, Rome\",\n",
    "    \"Via della Pigna, 340, Rome\", \"Via della Stelletta, 345, Rome\", \"Via della Pace, 350, Rome\", \"Via di Parione, 355, Rome\",\n",
    "    \"Via di Montecitorio, 360, Rome\", \"Via della Pigna, 365, Rome\", \"Via della Stelletta, 345, Rome\"]"
   ]
  },
  {
   "cell_type": "code",
   "execution_count": 20,
   "id": "3a6f1167",
   "metadata": {},
   "outputs": [
    {
     "name": "stderr",
     "output_type": "stream",
     "text": [
      "100%|██████████| 75/75 [00:45<00:00,  1.66it/s]\n"
     ]
    }
   ],
   "source": [
    "#! pip3 install tqdm\n",
    "#! pip3 install geolocator\n",
    "from tqdm import tqdm\n",
    "# Get latitude and longitude for Rome addresses\n",
    "rome_coords = [geolocator.geocode(address,timeout=None) for address in tqdm(addresses_rome)]"
   ]
  },
  {
   "cell_type": "code",
   "execution_count": null,
   "id": "7e83e77a",
   "metadata": {},
   "outputs": [],
   "source": [
    "for i in rome_coords[0]:\n",
    "    print(i)"
   ]
  },
  {
   "cell_type": "code",
   "execution_count": null,
   "id": "725c4599",
   "metadata": {},
   "outputs": [],
   "source": []
  },
  {
   "cell_type": "code",
   "execution_count": null,
   "id": "0e714e27",
   "metadata": {},
   "outputs": [],
   "source": []
  },
  {
   "cell_type": "code",
   "execution_count": null,
   "id": "ca2cb446",
   "metadata": {},
   "outputs": [],
   "source": [
    "type(rome_coords)"
   ]
  },
  {
   "cell_type": "code",
   "execution_count": 21,
   "id": "d8cf7691",
   "metadata": {},
   "outputs": [],
   "source": [
    "def extract_df(lat,loc_):\n",
    "    lat_ =[]\n",
    "    log_ =[]\n",
    "    add_ =[]\n",
    "    loc  = []\n",
    "    for i in tqdm(lat):\n",
    "        try:\n",
    "            add_.append(i[0])\n",
    "            lat_.append(i[1][0])\n",
    "            log_.append(i[1][1])\n",
    "            loc.append(loc_)\n",
    "        except Exception:\n",
    "            add_.append('Via del Corso, Olevano Romano, Roma Capitale, Lazio, 00035, Italia')\n",
    "            lat_.append(41.8468543)\n",
    "            log_.append(13.040282)\n",
    "            loc.append(loc_)\n",
    "            \n",
    "            \n",
    "    return pd.DataFrame([add_,lat_,log_,loc]).T"
   ]
  },
  {
   "cell_type": "code",
   "execution_count": 22,
   "id": "3115ef93",
   "metadata": {},
   "outputs": [
    {
     "name": "stderr",
     "output_type": "stream",
     "text": [
      "100%|██████████| 75/75 [00:00<00:00, 204400.78it/s]\n"
     ]
    }
   ],
   "source": [
    "rome_df =extract_df(rome_coords,'Rome')"
   ]
  },
  {
   "cell_type": "code",
   "execution_count": null,
   "id": "43b0eb9b",
   "metadata": {},
   "outputs": [],
   "source": [
    "rome_df"
   ]
  },
  {
   "cell_type": "code",
   "execution_count": 23,
   "id": "512da648",
   "metadata": {},
   "outputs": [
    {
     "name": "stderr",
     "output_type": "stream",
     "text": [
      "100%|██████████| 100/100 [00:00<00:00, 128344.68it/s]\n"
     ]
    }
   ],
   "source": [
    "napoli_df =extract_df(napoli_coords,'Napoli')"
   ]
  },
  {
   "cell_type": "code",
   "execution_count": null,
   "id": "305d0e3c",
   "metadata": {},
   "outputs": [],
   "source": [
    "napoli_df"
   ]
  },
  {
   "cell_type": "code",
   "execution_count": null,
   "id": "3e478d22",
   "metadata": {},
   "outputs": [],
   "source": []
  },
  {
   "cell_type": "code",
   "execution_count": 24,
   "id": "a6612cec",
   "metadata": {},
   "outputs": [],
   "source": [
    "d1 = data2[['Description','Name','Price','UnivalentValue']].head(175).reset_index().drop(columns='index')"
   ]
  },
  {
   "cell_type": "code",
   "execution_count": null,
   "id": "3a0096b9",
   "metadata": {},
   "outputs": [],
   "source": []
  },
  {
   "cell_type": "code",
   "execution_count": 25,
   "id": "18de0d9d",
   "metadata": {},
   "outputs": [],
   "source": [
    "d2 =pd.concat([napoli_df,rome_df]).reset_index().drop(columns='index')"
   ]
  },
  {
   "cell_type": "code",
   "execution_count": 26,
   "id": "d1cdfcf2",
   "metadata": {},
   "outputs": [],
   "source": [
    "\n",
    "d3 =data[['B']].sample(frac=1).tail(175).reset_index().drop(columns='index')"
   ]
  },
  {
   "cell_type": "code",
   "execution_count": null,
   "id": "38e05200",
   "metadata": {},
   "outputs": [],
   "source": []
  },
  {
   "cell_type": "code",
   "execution_count": 27,
   "id": "bd2d907d",
   "metadata": {},
   "outputs": [],
   "source": [
    "\n",
    "d4 =data[['B']].sample(frac=1).tail(15247).reset_index().drop(columns='index')"
   ]
  },
  {
   "cell_type": "code",
   "execution_count": null,
   "id": "0be7487f",
   "metadata": {},
   "outputs": [],
   "source": [
    "d4.t"
   ]
  },
  {
   "cell_type": "code",
   "execution_count": null,
   "id": "9f5259fc",
   "metadata": {},
   "outputs": [],
   "source": []
  },
  {
   "cell_type": "code",
   "execution_count": 28,
   "id": "e87a3d74",
   "metadata": {},
   "outputs": [],
   "source": [
    "import pandas as pd\n",
    "\n",
    "def image_d(df, n_lists=175, items_per_list=6):\n",
    "    all_lists = []\n",
    "\n",
    "    for _ in range(n_lists):\n",
    "        sampled_list = []\n",
    "        count = 0\n",
    "\n",
    "        for idx, d in enumerate(df.sample(100).iterrows()):\n",
    "            l = d[1].values[0]\n",
    "            #print(l)\n",
    "            sampled_list.append(l)\n",
    "            count += 1\n",
    "            if count == items_per_list:\n",
    "                break\n",
    "\n",
    "        all_lists.append(sampled_list)\n",
    "    \n",
    "    return all_lists"
   ]
  },
  {
   "cell_type": "code",
   "execution_count": 29,
   "id": "6344aa60",
   "metadata": {},
   "outputs": [],
   "source": [
    "d4 = pd.DataFrame(image_d(d4))"
   ]
  },
  {
   "cell_type": "code",
   "execution_count": null,
   "id": "b50373ee",
   "metadata": {},
   "outputs": [],
   "source": []
  },
  {
   "cell_type": "code",
   "execution_count": 30,
   "id": "02ebef82",
   "metadata": {},
   "outputs": [
    {
     "data": {
      "text/plain": [
       "RangeIndex(start=0, stop=6, step=1)"
      ]
     },
     "execution_count": 30,
     "metadata": {},
     "output_type": "execute_result"
    }
   ],
   "source": [
    "d4.columns"
   ]
  },
  {
   "cell_type": "code",
   "execution_count": 31,
   "id": "0c5d208b",
   "metadata": {},
   "outputs": [],
   "source": [
    "d4.columns = ['img_'+str(i) for  i in d4.columns]"
   ]
  },
  {
   "cell_type": "code",
   "execution_count": 32,
   "id": "2c3fa01b",
   "metadata": {},
   "outputs": [
    {
     "data": {
      "text/html": [
       "<div>\n",
       "<style scoped>\n",
       "    .dataframe tbody tr th:only-of-type {\n",
       "        vertical-align: middle;\n",
       "    }\n",
       "\n",
       "    .dataframe tbody tr th {\n",
       "        vertical-align: top;\n",
       "    }\n",
       "\n",
       "    .dataframe thead th {\n",
       "        text-align: right;\n",
       "    }\n",
       "</style>\n",
       "<table border=\"1\" class=\"dataframe\">\n",
       "  <thead>\n",
       "    <tr style=\"text-align: right;\">\n",
       "      <th></th>\n",
       "      <th>img_0</th>\n",
       "      <th>img_1</th>\n",
       "      <th>img_2</th>\n",
       "      <th>img_3</th>\n",
       "      <th>img_4</th>\n",
       "      <th>img_5</th>\n",
       "    </tr>\n",
       "  </thead>\n",
       "  <tbody>\n",
       "    <tr>\n",
       "      <th>0</th>\n",
       "      <td>/Users/nandrajog/Downloads/rental_property/lib...</td>\n",
       "      <td>/Users/nandrajog/Downloads/rental_property/lib...</td>\n",
       "      <td>/Users/nandrajog/Downloads/rental_property/lib...</td>\n",
       "      <td>/Users/nandrajog/Downloads/rental_property/lib...</td>\n",
       "      <td>/Users/nandrajog/Downloads/rental_property/lib...</td>\n",
       "      <td>/Users/nandrajog/Downloads/rental_property/lib...</td>\n",
       "    </tr>\n",
       "    <tr>\n",
       "      <th>1</th>\n",
       "      <td>/Users/nandrajog/Downloads/rental_property/lib...</td>\n",
       "      <td>/Users/nandrajog/Downloads/rental_property/lib...</td>\n",
       "      <td>/Users/nandrajog/Downloads/rental_property/lib...</td>\n",
       "      <td>/Users/nandrajog/Downloads/rental_property/lib...</td>\n",
       "      <td>/Users/nandrajog/Downloads/rental_property/lib...</td>\n",
       "      <td>/Users/nandrajog/Downloads/rental_property/lib...</td>\n",
       "    </tr>\n",
       "    <tr>\n",
       "      <th>2</th>\n",
       "      <td>/Users/nandrajog/Downloads/rental_property/lib...</td>\n",
       "      <td>/Users/nandrajog/Downloads/rental_property/lib...</td>\n",
       "      <td>/Users/nandrajog/Downloads/rental_property/lib...</td>\n",
       "      <td>/Users/nandrajog/Downloads/rental_property/lib...</td>\n",
       "      <td>/Users/nandrajog/Downloads/rental_property/lib...</td>\n",
       "      <td>/Users/nandrajog/Downloads/rental_property/lib...</td>\n",
       "    </tr>\n",
       "    <tr>\n",
       "      <th>3</th>\n",
       "      <td>/Users/nandrajog/Downloads/rental_property/lib...</td>\n",
       "      <td>/Users/nandrajog/Downloads/rental_property/lib...</td>\n",
       "      <td>/Users/nandrajog/Downloads/rental_property/lib...</td>\n",
       "      <td>/Users/nandrajog/Downloads/rental_property/lib...</td>\n",
       "      <td>/Users/nandrajog/Downloads/rental_property/lib...</td>\n",
       "      <td>/Users/nandrajog/Downloads/rental_property/lib...</td>\n",
       "    </tr>\n",
       "    <tr>\n",
       "      <th>4</th>\n",
       "      <td>/Users/nandrajog/Downloads/rental_property/lib...</td>\n",
       "      <td>/Users/nandrajog/Downloads/rental_property/lib...</td>\n",
       "      <td>/Users/nandrajog/Downloads/rental_property/lib...</td>\n",
       "      <td>/Users/nandrajog/Downloads/rental_property/lib...</td>\n",
       "      <td>/Users/nandrajog/Downloads/rental_property/lib...</td>\n",
       "      <td>/Users/nandrajog/Downloads/rental_property/lib...</td>\n",
       "    </tr>\n",
       "    <tr>\n",
       "      <th>...</th>\n",
       "      <td>...</td>\n",
       "      <td>...</td>\n",
       "      <td>...</td>\n",
       "      <td>...</td>\n",
       "      <td>...</td>\n",
       "      <td>...</td>\n",
       "    </tr>\n",
       "    <tr>\n",
       "      <th>170</th>\n",
       "      <td>/Users/nandrajog/Downloads/rental_property/lib...</td>\n",
       "      <td>/Users/nandrajog/Downloads/rental_property/lib...</td>\n",
       "      <td>/Users/nandrajog/Downloads/rental_property/lib...</td>\n",
       "      <td>/Users/nandrajog/Downloads/rental_property/lib...</td>\n",
       "      <td>/Users/nandrajog/Downloads/rental_property/lib...</td>\n",
       "      <td>/Users/nandrajog/Downloads/rental_property/lib...</td>\n",
       "    </tr>\n",
       "    <tr>\n",
       "      <th>171</th>\n",
       "      <td>/Users/nandrajog/Downloads/rental_property/lib...</td>\n",
       "      <td>/Users/nandrajog/Downloads/rental_property/lib...</td>\n",
       "      <td>/Users/nandrajog/Downloads/rental_property/lib...</td>\n",
       "      <td>/Users/nandrajog/Downloads/rental_property/lib...</td>\n",
       "      <td>/Users/nandrajog/Downloads/rental_property/lib...</td>\n",
       "      <td>/Users/nandrajog/Downloads/rental_property/lib...</td>\n",
       "    </tr>\n",
       "    <tr>\n",
       "      <th>172</th>\n",
       "      <td>/Users/nandrajog/Downloads/rental_property/lib...</td>\n",
       "      <td>/Users/nandrajog/Downloads/rental_property/lib...</td>\n",
       "      <td>/Users/nandrajog/Downloads/rental_property/lib...</td>\n",
       "      <td>/Users/nandrajog/Downloads/rental_property/lib...</td>\n",
       "      <td>/Users/nandrajog/Downloads/rental_property/lib...</td>\n",
       "      <td>/Users/nandrajog/Downloads/rental_property/lib...</td>\n",
       "    </tr>\n",
       "    <tr>\n",
       "      <th>173</th>\n",
       "      <td>/Users/nandrajog/Downloads/rental_property/lib...</td>\n",
       "      <td>/Users/nandrajog/Downloads/rental_property/lib...</td>\n",
       "      <td>/Users/nandrajog/Downloads/rental_property/lib...</td>\n",
       "      <td>/Users/nandrajog/Downloads/rental_property/lib...</td>\n",
       "      <td>/Users/nandrajog/Downloads/rental_property/lib...</td>\n",
       "      <td>/Users/nandrajog/Downloads/rental_property/lib...</td>\n",
       "    </tr>\n",
       "    <tr>\n",
       "      <th>174</th>\n",
       "      <td>/Users/nandrajog/Downloads/rental_property/lib...</td>\n",
       "      <td>/Users/nandrajog/Downloads/rental_property/lib...</td>\n",
       "      <td>/Users/nandrajog/Downloads/rental_property/lib...</td>\n",
       "      <td>/Users/nandrajog/Downloads/rental_property/lib...</td>\n",
       "      <td>/Users/nandrajog/Downloads/rental_property/lib...</td>\n",
       "      <td>/Users/nandrajog/Downloads/rental_property/lib...</td>\n",
       "    </tr>\n",
       "  </tbody>\n",
       "</table>\n",
       "<p>175 rows × 6 columns</p>\n",
       "</div>"
      ],
      "text/plain": [
       "                                                 img_0  \\\n",
       "0    /Users/nandrajog/Downloads/rental_property/lib...   \n",
       "1    /Users/nandrajog/Downloads/rental_property/lib...   \n",
       "2    /Users/nandrajog/Downloads/rental_property/lib...   \n",
       "3    /Users/nandrajog/Downloads/rental_property/lib...   \n",
       "4    /Users/nandrajog/Downloads/rental_property/lib...   \n",
       "..                                                 ...   \n",
       "170  /Users/nandrajog/Downloads/rental_property/lib...   \n",
       "171  /Users/nandrajog/Downloads/rental_property/lib...   \n",
       "172  /Users/nandrajog/Downloads/rental_property/lib...   \n",
       "173  /Users/nandrajog/Downloads/rental_property/lib...   \n",
       "174  /Users/nandrajog/Downloads/rental_property/lib...   \n",
       "\n",
       "                                                 img_1  \\\n",
       "0    /Users/nandrajog/Downloads/rental_property/lib...   \n",
       "1    /Users/nandrajog/Downloads/rental_property/lib...   \n",
       "2    /Users/nandrajog/Downloads/rental_property/lib...   \n",
       "3    /Users/nandrajog/Downloads/rental_property/lib...   \n",
       "4    /Users/nandrajog/Downloads/rental_property/lib...   \n",
       "..                                                 ...   \n",
       "170  /Users/nandrajog/Downloads/rental_property/lib...   \n",
       "171  /Users/nandrajog/Downloads/rental_property/lib...   \n",
       "172  /Users/nandrajog/Downloads/rental_property/lib...   \n",
       "173  /Users/nandrajog/Downloads/rental_property/lib...   \n",
       "174  /Users/nandrajog/Downloads/rental_property/lib...   \n",
       "\n",
       "                                                 img_2  \\\n",
       "0    /Users/nandrajog/Downloads/rental_property/lib...   \n",
       "1    /Users/nandrajog/Downloads/rental_property/lib...   \n",
       "2    /Users/nandrajog/Downloads/rental_property/lib...   \n",
       "3    /Users/nandrajog/Downloads/rental_property/lib...   \n",
       "4    /Users/nandrajog/Downloads/rental_property/lib...   \n",
       "..                                                 ...   \n",
       "170  /Users/nandrajog/Downloads/rental_property/lib...   \n",
       "171  /Users/nandrajog/Downloads/rental_property/lib...   \n",
       "172  /Users/nandrajog/Downloads/rental_property/lib...   \n",
       "173  /Users/nandrajog/Downloads/rental_property/lib...   \n",
       "174  /Users/nandrajog/Downloads/rental_property/lib...   \n",
       "\n",
       "                                                 img_3  \\\n",
       "0    /Users/nandrajog/Downloads/rental_property/lib...   \n",
       "1    /Users/nandrajog/Downloads/rental_property/lib...   \n",
       "2    /Users/nandrajog/Downloads/rental_property/lib...   \n",
       "3    /Users/nandrajog/Downloads/rental_property/lib...   \n",
       "4    /Users/nandrajog/Downloads/rental_property/lib...   \n",
       "..                                                 ...   \n",
       "170  /Users/nandrajog/Downloads/rental_property/lib...   \n",
       "171  /Users/nandrajog/Downloads/rental_property/lib...   \n",
       "172  /Users/nandrajog/Downloads/rental_property/lib...   \n",
       "173  /Users/nandrajog/Downloads/rental_property/lib...   \n",
       "174  /Users/nandrajog/Downloads/rental_property/lib...   \n",
       "\n",
       "                                                 img_4  \\\n",
       "0    /Users/nandrajog/Downloads/rental_property/lib...   \n",
       "1    /Users/nandrajog/Downloads/rental_property/lib...   \n",
       "2    /Users/nandrajog/Downloads/rental_property/lib...   \n",
       "3    /Users/nandrajog/Downloads/rental_property/lib...   \n",
       "4    /Users/nandrajog/Downloads/rental_property/lib...   \n",
       "..                                                 ...   \n",
       "170  /Users/nandrajog/Downloads/rental_property/lib...   \n",
       "171  /Users/nandrajog/Downloads/rental_property/lib...   \n",
       "172  /Users/nandrajog/Downloads/rental_property/lib...   \n",
       "173  /Users/nandrajog/Downloads/rental_property/lib...   \n",
       "174  /Users/nandrajog/Downloads/rental_property/lib...   \n",
       "\n",
       "                                                 img_5  \n",
       "0    /Users/nandrajog/Downloads/rental_property/lib...  \n",
       "1    /Users/nandrajog/Downloads/rental_property/lib...  \n",
       "2    /Users/nandrajog/Downloads/rental_property/lib...  \n",
       "3    /Users/nandrajog/Downloads/rental_property/lib...  \n",
       "4    /Users/nandrajog/Downloads/rental_property/lib...  \n",
       "..                                                 ...  \n",
       "170  /Users/nandrajog/Downloads/rental_property/lib...  \n",
       "171  /Users/nandrajog/Downloads/rental_property/lib...  \n",
       "172  /Users/nandrajog/Downloads/rental_property/lib...  \n",
       "173  /Users/nandrajog/Downloads/rental_property/lib...  \n",
       "174  /Users/nandrajog/Downloads/rental_property/lib...  \n",
       "\n",
       "[175 rows x 6 columns]"
      ]
     },
     "execution_count": 32,
     "metadata": {},
     "output_type": "execute_result"
    }
   ],
   "source": [
    "d4"
   ]
  },
  {
   "cell_type": "code",
   "execution_count": null,
   "id": "a0280f65",
   "metadata": {},
   "outputs": [],
   "source": []
  },
  {
   "cell_type": "code",
   "execution_count": null,
   "id": "36b4cd43",
   "metadata": {},
   "outputs": [],
   "source": [
    "#img_col = data.sample(frac=1).head(175)[['B']].reset_index().drop(columns='index')"
   ]
  },
  {
   "cell_type": "code",
   "execution_count": null,
   "id": "eefc526e",
   "metadata": {},
   "outputs": [],
   "source": [
    "img_col"
   ]
  },
  {
   "cell_type": "code",
   "execution_count": null,
   "id": "f59f4f0a",
   "metadata": {},
   "outputs": [],
   "source": [
    "img_col.columns = ['img_path']"
   ]
  },
  {
   "cell_type": "code",
   "execution_count": 33,
   "id": "d3844186",
   "metadata": {},
   "outputs": [],
   "source": [
    "pd.concat([d1,d2,d3,d4],axis=1).to_csv('house_data_mac.csv',index=False, header=False)"
   ]
  },
  {
   "cell_type": "code",
   "execution_count": null,
   "id": "d1f64d59",
   "metadata": {},
   "outputs": [],
   "source": [
    "pd.concat([d1,d2,d3,d4],axis=1)"
   ]
  },
  {
   "cell_type": "code",
   "execution_count": null,
   "id": "7f9169b9",
   "metadata": {},
   "outputs": [],
   "source": [
    "import pandas as pd\n",
    "import numpy as np \n",
    "\n",
    "\n",
    "data = pd.read_csv(\"/Users/nandrajog/Downloads/rental_property/lib/House_dataset/house_data.csv\")"
   ]
  },
  {
   "cell_type": "code",
   "execution_count": null,
   "id": "cc596e3f",
   "metadata": {},
   "outputs": [],
   "source": [
    "! pip3 install pandas"
   ]
  },
  {
   "cell_type": "code",
   "execution_count": null,
   "id": "4352e68c",
   "metadata": {},
   "outputs": [],
   "source": []
  },
  {
   "cell_type": "code",
   "execution_count": null,
   "id": "0fa060f0",
   "metadata": {},
   "outputs": [],
   "source": [
    "data.iloc[0].replace('/home/utente','/Users/nandrajog/Downloads/')"
   ]
  },
  {
   "cell_type": "code",
   "execution_count": null,
   "id": "8c09dfd5",
   "metadata": {},
   "outputs": [],
   "source": []
  }
 ],
 "metadata": {
  "kernelspec": {
   "display_name": "Python 3",
   "language": "python",
   "name": "python3"
  },
  "language_info": {
   "codemirror_mode": {
    "name": "ipython",
    "version": 3
   },
   "file_extension": ".py",
   "mimetype": "text/x-python",
   "name": "python",
   "nbconvert_exporter": "python",
   "pygments_lexer": "ipython3",
   "version": "3.12.0"
  },
  "vscode": {
   "interpreter": {
    "hash": "aee8b7b246df8f9039afb4144a1f6fd8d2ca17a180786b69acc140d282b71a49"
   }
  }
 },
 "nbformat": 4,
 "nbformat_minor": 5
}
